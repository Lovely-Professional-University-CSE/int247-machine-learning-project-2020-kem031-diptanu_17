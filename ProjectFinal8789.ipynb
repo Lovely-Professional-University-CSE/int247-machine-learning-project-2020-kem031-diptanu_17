{
 "cells": [
  {
   "cell_type": "markdown",
   "metadata": {},
   "source": [
    "# This is a abstract summary classifier module building project. Overhere we took the data set which contains some textual abstract content related to some passage and we have made a supervised module which can predict the category of the text it belonging to."
   ]
  },
  {
   "cell_type": "code",
   "execution_count": 51,
   "metadata": {},
   "outputs": [],
   "source": [
    "import numpy as np\n",
    "import pandas as pd\n",
    "import matplotlib.pyplot as plt\n",
    "import seaborn as sns\n",
    "from sklearn.preprocessing import LabelEncoder\n",
    "from sklearn.feature_extraction.text import CountVectorizer\n",
    "from sklearn.model_selection import train_test_split\n",
    "from sklearn.naive_bayes import MultinomialNB"
   ]
  },
  {
   "cell_type": "code",
   "execution_count": 52,
   "metadata": {},
   "outputs": [],
   "source": [
    "data=pd.read_csv('D:/Study/ML/Data/bbc-text.csv')"
   ]
  },
  {
   "cell_type": "code",
   "execution_count": 53,
   "metadata": {
    "scrolled": true
   },
   "outputs": [
    {
     "data": {
      "text/html": [
       "<div>\n",
       "<style scoped>\n",
       "    .dataframe tbody tr th:only-of-type {\n",
       "        vertical-align: middle;\n",
       "    }\n",
       "\n",
       "    .dataframe tbody tr th {\n",
       "        vertical-align: top;\n",
       "    }\n",
       "\n",
       "    .dataframe thead th {\n",
       "        text-align: right;\n",
       "    }\n",
       "</style>\n",
       "<table border=\"1\" class=\"dataframe\">\n",
       "  <thead>\n",
       "    <tr style=\"text-align: right;\">\n",
       "      <th></th>\n",
       "      <th>category</th>\n",
       "      <th>text</th>\n",
       "    </tr>\n",
       "  </thead>\n",
       "  <tbody>\n",
       "    <tr>\n",
       "      <th>0</th>\n",
       "      <td>tech</td>\n",
       "      <td>tv future in the hands of viewers with home th...</td>\n",
       "    </tr>\n",
       "    <tr>\n",
       "      <th>1</th>\n",
       "      <td>business</td>\n",
       "      <td>worldcom boss  left books alone  former worldc...</td>\n",
       "    </tr>\n",
       "    <tr>\n",
       "      <th>2</th>\n",
       "      <td>sport</td>\n",
       "      <td>tigers wary of farrell  gamble  leicester say ...</td>\n",
       "    </tr>\n",
       "    <tr>\n",
       "      <th>3</th>\n",
       "      <td>sport</td>\n",
       "      <td>yeading face newcastle in fa cup premiership s...</td>\n",
       "    </tr>\n",
       "    <tr>\n",
       "      <th>4</th>\n",
       "      <td>entertainment</td>\n",
       "      <td>ocean s twelve raids box office ocean s twelve...</td>\n",
       "    </tr>\n",
       "  </tbody>\n",
       "</table>\n",
       "</div>"
      ],
      "text/plain": [
       "        category                                               text\n",
       "0           tech  tv future in the hands of viewers with home th...\n",
       "1       business  worldcom boss  left books alone  former worldc...\n",
       "2          sport  tigers wary of farrell  gamble  leicester say ...\n",
       "3          sport  yeading face newcastle in fa cup premiership s...\n",
       "4  entertainment  ocean s twelve raids box office ocean s twelve..."
      ]
     },
     "execution_count": 53,
     "metadata": {},
     "output_type": "execute_result"
    }
   ],
   "source": [
    "data.head()"
   ]
  },
  {
   "cell_type": "code",
   "execution_count": 54,
   "metadata": {},
   "outputs": [],
   "source": [
    "l=LabelEncoder()"
   ]
  },
  {
   "cell_type": "code",
   "execution_count": 59,
   "metadata": {},
   "outputs": [],
   "source": [
    "data['Category_Code']=l.fit_transform(data['category'])"
   ]
  },
  {
   "cell_type": "code",
   "execution_count": 60,
   "metadata": {},
   "outputs": [
    {
     "data": {
      "text/html": [
       "<div>\n",
       "<style scoped>\n",
       "    .dataframe tbody tr th:only-of-type {\n",
       "        vertical-align: middle;\n",
       "    }\n",
       "\n",
       "    .dataframe tbody tr th {\n",
       "        vertical-align: top;\n",
       "    }\n",
       "\n",
       "    .dataframe thead th {\n",
       "        text-align: right;\n",
       "    }\n",
       "</style>\n",
       "<table border=\"1\" class=\"dataframe\">\n",
       "  <thead>\n",
       "    <tr style=\"text-align: right;\">\n",
       "      <th></th>\n",
       "      <th>Category_Code</th>\n",
       "    </tr>\n",
       "  </thead>\n",
       "  <tbody>\n",
       "    <tr>\n",
       "      <th>count</th>\n",
       "      <td>2225.000000</td>\n",
       "    </tr>\n",
       "    <tr>\n",
       "      <th>mean</th>\n",
       "      <td>1.958202</td>\n",
       "    </tr>\n",
       "    <tr>\n",
       "      <th>std</th>\n",
       "      <td>1.428310</td>\n",
       "    </tr>\n",
       "    <tr>\n",
       "      <th>min</th>\n",
       "      <td>0.000000</td>\n",
       "    </tr>\n",
       "    <tr>\n",
       "      <th>25%</th>\n",
       "      <td>1.000000</td>\n",
       "    </tr>\n",
       "    <tr>\n",
       "      <th>50%</th>\n",
       "      <td>2.000000</td>\n",
       "    </tr>\n",
       "    <tr>\n",
       "      <th>75%</th>\n",
       "      <td>3.000000</td>\n",
       "    </tr>\n",
       "    <tr>\n",
       "      <th>max</th>\n",
       "      <td>4.000000</td>\n",
       "    </tr>\n",
       "  </tbody>\n",
       "</table>\n",
       "</div>"
      ],
      "text/plain": [
       "       Category_Code\n",
       "count    2225.000000\n",
       "mean        1.958202\n",
       "std         1.428310\n",
       "min         0.000000\n",
       "25%         1.000000\n",
       "50%         2.000000\n",
       "75%         3.000000\n",
       "max         4.000000"
      ]
     },
     "execution_count": 60,
     "metadata": {},
     "output_type": "execute_result"
    }
   ],
   "source": [
    "data.describe()"
   ]
  },
  {
   "cell_type": "code",
   "execution_count": 61,
   "metadata": {
    "scrolled": true
   },
   "outputs": [
    {
     "data": {
      "text/html": [
       "<div>\n",
       "<style scoped>\n",
       "    .dataframe tbody tr th:only-of-type {\n",
       "        vertical-align: middle;\n",
       "    }\n",
       "\n",
       "    .dataframe tbody tr th {\n",
       "        vertical-align: top;\n",
       "    }\n",
       "\n",
       "    .dataframe thead th {\n",
       "        text-align: right;\n",
       "    }\n",
       "</style>\n",
       "<table border=\"1\" class=\"dataframe\">\n",
       "  <thead>\n",
       "    <tr style=\"text-align: right;\">\n",
       "      <th></th>\n",
       "      <th>category</th>\n",
       "      <th>text</th>\n",
       "      <th>Category_Code</th>\n",
       "    </tr>\n",
       "  </thead>\n",
       "  <tbody>\n",
       "    <tr>\n",
       "      <th>0</th>\n",
       "      <td>tech</td>\n",
       "      <td>tv future in the hands of viewers with home th...</td>\n",
       "      <td>4</td>\n",
       "    </tr>\n",
       "    <tr>\n",
       "      <th>1</th>\n",
       "      <td>business</td>\n",
       "      <td>worldcom boss  left books alone  former worldc...</td>\n",
       "      <td>0</td>\n",
       "    </tr>\n",
       "    <tr>\n",
       "      <th>2</th>\n",
       "      <td>sport</td>\n",
       "      <td>tigers wary of farrell  gamble  leicester say ...</td>\n",
       "      <td>3</td>\n",
       "    </tr>\n",
       "    <tr>\n",
       "      <th>3</th>\n",
       "      <td>sport</td>\n",
       "      <td>yeading face newcastle in fa cup premiership s...</td>\n",
       "      <td>3</td>\n",
       "    </tr>\n",
       "    <tr>\n",
       "      <th>4</th>\n",
       "      <td>entertainment</td>\n",
       "      <td>ocean s twelve raids box office ocean s twelve...</td>\n",
       "      <td>1</td>\n",
       "    </tr>\n",
       "  </tbody>\n",
       "</table>\n",
       "</div>"
      ],
      "text/plain": [
       "        category                                               text  \\\n",
       "0           tech  tv future in the hands of viewers with home th...   \n",
       "1       business  worldcom boss  left books alone  former worldc...   \n",
       "2          sport  tigers wary of farrell  gamble  leicester say ...   \n",
       "3          sport  yeading face newcastle in fa cup premiership s...   \n",
       "4  entertainment  ocean s twelve raids box office ocean s twelve...   \n",
       "\n",
       "   Category_Code  \n",
       "0              4  \n",
       "1              0  \n",
       "2              3  \n",
       "3              3  \n",
       "4              1  "
      ]
     },
     "execution_count": 61,
     "metadata": {},
     "output_type": "execute_result"
    }
   ],
   "source": [
    "data.head()"
   ]
  },
  {
   "cell_type": "code",
   "execution_count": 63,
   "metadata": {},
   "outputs": [
    {
     "data": {
      "text/plain": [
       "Text(0, 0.5, 'Category')"
      ]
     },
     "execution_count": 63,
     "metadata": {},
     "output_type": "execute_result"
    },
    {
     "data": {
      "image/png": "[encoded data removed]",
      "text/plain": [
       "<Figure size 432x288 with 1 Axes>"
      ]
     },
     "metadata": {
      "needs_background": "light"
     },
     "output_type": "display_data"
    }
   ],
   "source": [
    "Graph= data['Category_Code'].value_counts(sort=False).plot(kind='barh')\n",
    "Graph.set_xlabel(\"Number Of Samples\")\n",
    "Graph.set_ylabel(\"Category\")"
   ]
  },
  {
   "cell_type": "code",
   "execution_count": 30,
   "metadata": {},
   "outputs": [],
   "source": [
    "X=data['text']"
   ]
  },
  {
   "cell_type": "code",
   "execution_count": 31,
   "metadata": {},
   "outputs": [],
   "source": [
    "Y=data['Category_Code']"
   ]
  },
  {
   "cell_type": "code",
   "execution_count": 32,
   "metadata": {},
   "outputs": [],
   "source": [
    "X_train,X_test,Y_train,Y_test=train_test_split(X,Y, test_size=0.3, random_state=4)"
   ]
  },
  {
   "cell_type": "code",
   "execution_count": 33,
   "metadata": {},
   "outputs": [],
   "source": [
    "cv = CountVectorizer()"
   ]
  },
  {
   "cell_type": "code",
   "execution_count": 34,
   "metadata": {},
   "outputs": [],
   "source": [
    "x_traincv=cv.fit_transform(X_train)"
   ]
  },
  {
   "cell_type": "code",
   "execution_count": 35,
   "metadata": {},
   "outputs": [],
   "source": [
    "a=x_traincv.toarray()"
   ]
  },
  {
   "cell_type": "code",
   "execution_count": 36,
   "metadata": {},
   "outputs": [
    {
     "data": {
      "text/plain": [
       "array([0, 0, 0, ..., 0, 0, 0], dtype=int64)"
      ]
     },
     "execution_count": 36,
     "metadata": {},
     "output_type": "execute_result"
    }
   ],
   "source": [
    "a[0]"
   ]
  },
  {
   "cell_type": "code",
   "execution_count": 37,
   "metadata": {},
   "outputs": [
    {
     "data": {
      "text/plain": [
       "[array(['2001', '2004', '75', 'according', 'activity', 'after', 'again',\n",
       "        'also', 'amid', 'and', 'are', 'around', 'as', 'assume', 'at',\n",
       "        'bank', 'bbc', 'been', 'believed', 'biggest', 'booming',\n",
       "        'bridgewell', 'but', 'chief', 'committee', 'confidence',\n",
       "        'consumer', 'cooling', 'dangerous', 'economic', 'economist',\n",
       "        'economy', 'england', 'evidence', 'fall', 'february', 'fell',\n",
       "        'first', 'five', 'following', 'going', 'governor', 'growing',\n",
       "        'growth', 'had', 'half', 'hand', 'has', 'have', 'he', 'hit',\n",
       "        'hold', 'house', 'housing', 'however', 'in', 'interest', 'is',\n",
       "        'it', 'jeffrey', 'king', 'last', 'latest', 'leave',\n",
       "        'manufacturing', 'market', 'meeting', 'mervyn', 'month', 'monthly',\n",
       "        'mr', 'nationwide', 'not', 'now', 'october', 'of', 'on', 'out',\n",
       "        'output', 'past', 'patch', 'peaked', 'previous', 'previously',\n",
       "        'prices', 'programme', 'put', 'quarter', 'radio', 'rapid', 'rate',\n",
       "        'rates', 'remain', 'richard', 'said', 'securities', 'september',\n",
       "        'set', 'setting', 'signs', 'since', 'slipped', 'slowdown',\n",
       "        'slowed', 'softer', 'stay', 'still', 'sufficient', 'temporary',\n",
       "        'that', 'the', 'their', 'there', 'think', 'this', 'time', 'times',\n",
       "        'to', 'today', 'told', 'uk', 'unlikely', 'up', 'very', 'was', 'we',\n",
       "        'while', 'woods', 'would', 'year'], dtype='<U31')]"
      ]
     },
     "execution_count": 37,
     "metadata": {},
     "output_type": "execute_result"
    }
   ],
   "source": [
    "cv.inverse_transform(a[0])"
   ]
  },
  {
   "cell_type": "code",
   "execution_count": 38,
   "metadata": {},
   "outputs": [],
   "source": [
    "x_testcv=cv.transform(X_test)"
   ]
  },
  {
   "cell_type": "code",
   "execution_count": 39,
   "metadata": {},
   "outputs": [],
   "source": [
    "mnb = MultinomialNB()"
   ]
  },
  {
   "cell_type": "code",
   "execution_count": 40,
   "metadata": {},
   "outputs": [],
   "source": [
    "y_train=Y_train.astype('int')"
   ]
  },
  {
   "cell_type": "code",
   "execution_count": 41,
   "metadata": {},
   "outputs": [
    {
     "data": {
      "text/plain": [
       "MultinomialNB(alpha=1.0, class_prior=None, fit_prior=True)"
      ]
     },
     "execution_count": 41,
     "metadata": {},
     "output_type": "execute_result"
    }
   ],
   "source": [
    "mnb.fit(x_traincv,y_train)"
   ]
  },
  {
   "cell_type": "code",
   "execution_count": 42,
   "metadata": {},
   "outputs": [],
   "source": [
    "predictions=mnb.predict(x_testcv)"
   ]
  },
  {
   "cell_type": "code",
   "execution_count": 43,
   "metadata": {},
   "outputs": [
    {
     "data": {
      "text/plain": [
       "array([2, 3, 3, 3, 1, 3, 3, 4, 3, 2, 3, 4, 3, 3, 4, 1, 2, 2, 4, 1, 0, 0,\n",
       "       3, 4, 2, 3, 4, 0, 3, 4, 3, 0, 3, 1, 0, 1, 3, 0, 0, 2, 3, 0, 1, 1,\n",
       "       3, 2, 4, 4, 4, 4, 3, 3, 3, 1, 3, 3, 0, 2, 1, 0, 2, 0, 0, 3, 2, 3,\n",
       "       3, 0, 4, 0, 2, 3, 0, 2, 0, 4, 4, 1, 3, 0, 3, 3, 4, 2, 2, 3, 2, 1,\n",
       "       2, 2, 1, 4, 4, 2, 3, 2, 1, 2, 4, 1, 1, 2, 0, 0, 2, 1, 2, 2, 2, 0,\n",
       "       3, 1, 3, 2, 4, 3, 0, 2, 3, 3, 3, 4, 1, 0, 0, 0, 0, 1, 4, 3, 2, 1,\n",
       "       0, 1, 4, 1, 2, 0, 2, 1, 3, 0, 3, 0, 0, 3, 0, 3, 4, 4, 1, 4, 0, 1,\n",
       "       0, 2, 3, 2, 0, 2, 0, 2, 3, 3, 2, 2, 0, 3, 4, 4, 2, 0, 0, 1, 0, 3,\n",
       "       4, 4, 3, 4, 2, 2, 1, 1, 3, 0, 1, 3, 0, 0, 1, 2, 0, 2, 3, 2, 0, 3,\n",
       "       0, 0, 2, 1, 2, 2, 2, 0, 4, 3, 1, 3, 0, 3, 4, 1, 2, 0, 1, 0, 1, 0,\n",
       "       4, 0, 2, 1, 1, 1, 3, 3, 0, 1, 3, 4, 0, 4, 3, 1, 3, 2, 4, 3, 1, 2,\n",
       "       4, 3, 3, 1, 2, 1, 1, 0, 3, 1, 4, 2, 4, 2, 1, 4, 1, 4, 0, 1, 0, 4,\n",
       "       2, 0, 0, 0, 2, 4, 0, 1, 2, 2, 0, 3, 2, 2, 0, 0, 4, 2, 4, 4, 3, 3,\n",
       "       2, 1, 0, 0, 3, 0, 4, 3, 2, 1, 1, 2, 4, 2, 3, 4, 0, 0, 2, 4, 2, 0,\n",
       "       0, 2, 4, 3, 4, 1, 1, 3, 1, 3, 1, 0, 2, 0, 1, 4, 4, 1, 0, 2, 0, 3,\n",
       "       1, 0, 1, 1, 4, 2, 3, 2, 3, 1, 4, 4, 1, 3, 0, 2, 1, 3, 0, 0, 1, 4,\n",
       "       0, 1, 0, 2, 1, 1, 4, 4, 1, 4, 4, 0, 0, 2, 4, 3, 4, 0, 4, 1, 1, 0,\n",
       "       3, 1, 0, 0, 2, 3, 3, 1, 0, 0, 4, 2, 0, 0, 3, 0, 3, 1, 4, 2, 4, 0,\n",
       "       3, 4, 0, 2, 4, 2, 1, 4, 3, 4, 4, 4, 3, 0, 1, 2, 1, 3, 0, 4, 3, 0,\n",
       "       4, 2, 4, 3, 0, 2, 1, 3, 4, 4, 2, 2, 1, 2, 4, 0, 0, 1, 2, 1, 0, 1,\n",
       "       0, 3, 2, 1, 1, 1, 1, 2, 3, 3, 3, 4, 3, 4, 3, 0, 2, 2, 2, 0, 2, 1,\n",
       "       0, 1, 2, 1, 0, 2, 3, 1, 2, 0, 3, 3, 4, 2, 4, 0, 0, 3, 4, 3, 0, 2,\n",
       "       2, 4, 3, 3, 4, 1, 1, 1, 4, 3, 3, 2, 4, 0, 3, 4, 3, 1, 1, 2, 3, 3,\n",
       "       3, 2, 0, 2, 0, 4, 3, 2, 3, 2, 3, 2, 0, 2, 2, 3, 0, 3, 4, 0, 4, 0,\n",
       "       1, 4, 2, 3, 0, 0, 1, 2, 4, 0, 4, 3, 1, 0, 2, 1, 3, 4, 1, 3, 4, 1,\n",
       "       2, 4, 0, 2, 3, 2, 0, 3, 4, 3, 2, 3, 3, 3, 0, 0, 0, 0, 3, 2, 3, 0,\n",
       "       1, 0, 1, 1, 0, 0, 3, 3, 3, 1, 3, 3, 0, 0, 1, 2, 2, 0, 4, 4, 0, 1,\n",
       "       4, 0, 0, 0, 4, 3, 2, 0, 2, 3, 1, 4, 2, 1, 4, 0, 0, 2, 0, 1, 3, 4,\n",
       "       0, 2, 0, 4, 3, 0, 1, 0, 4, 1, 4, 3, 2, 3, 1, 1, 1, 3, 2, 3, 2, 3,\n",
       "       0, 1, 2, 4, 2, 0, 3, 4, 2, 1, 4, 2, 3, 1, 4, 0, 3, 3, 1, 4, 0, 0,\n",
       "       0, 0, 1, 4, 3, 3, 0, 1])"
      ]
     },
     "execution_count": 43,
     "metadata": {},
     "output_type": "execute_result"
    }
   ],
   "source": [
    "predictions"
   ]
  },
  {
   "cell_type": "code",
   "execution_count": 44,
   "metadata": {},
   "outputs": [],
   "source": [
    "from sklearn.metrics import accuracy_score"
   ]
  },
  {
   "cell_type": "code",
   "execution_count": 45,
   "metadata": {},
   "outputs": [],
   "source": [
    "a=accuracy_score(Y_test,predictions)"
   ]
  },
  {
   "cell_type": "code",
   "execution_count": 46,
   "metadata": {},
   "outputs": [
    {
     "data": {
      "text/plain": [
       "0.9595808383233533"
      ]
     },
     "execution_count": 46,
     "metadata": {},
     "output_type": "execute_result"
    }
   ],
   "source": [
    "a"
   ]
  },
  {
   "cell_type": "code",
   "execution_count": null,
   "metadata": {},
   "outputs": [],
   "source": []
  },
  {
   "cell_type": "code",
   "execution_count": null,
   "metadata": {},
   "outputs": [],
   "source": []
  }
 ],
 "metadata": {
  "kernelspec": {
   "display_name": "Python 3",
   "language": "python",
   "name": "python3"
  },
  "language_info": {
   "codemirror_mode": {
    "name": "ipython",
    "version": 3
   },
   "file_extension": ".py",
   "mimetype": "text/x-python",
   "name": "python",
   "nbconvert_exporter": "python",
   "pygments_lexer": "ipython3",
   "version": "3.7.6"
  }
 },
 "nbformat": 4,
 "nbformat_minor": 4
}
