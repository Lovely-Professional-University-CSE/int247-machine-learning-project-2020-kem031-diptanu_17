{
 "cells": [
  {
   "cell_type": "code",
   "execution_count": 3,
   "metadata": {},
   "outputs": [],
   "source": [
    "from tkinter import * \n",
    "from tkinter.ttk import *\n",
    "  \n",
    "  \n",
    "class NewWindow(Toplevel): \n",
    "      \n",
    "    def __init__(self, master = None): \n",
    "          \n",
    "        super().__init__(master = master) \n",
    "        self.title(\"New Window\") \n",
    "        self.geometry(\"200x200\") \n",
    "        label = Label(self, text =\"This is a new Window\") \n",
    "        \n",
    "        label.pack() \n",
    "  \n",
    "  \n",
    "# creates a Tk() object \n",
    "master = Tk() \n",
    "  \n",
    "# sets the geometry of  \n",
    "# main root window \n",
    "master.geometry(\"200x200\") \n",
    "  \n",
    "label = Label(master, text =\"This is the main window\",font =( 'Verdana', 15)) \n",
    "label.pack(side = TOP, pady = 10) \n",
    "  \n",
    "# a button widget which will \n",
    "# open a new window on button click \n",
    "photo = PhotoImage(file = r\"D:\\Stuffs\\28.png\") \n",
    "  \n",
    "# Resizing image to fit on button \n",
    "photoimage = photo.subsample(3, 3) \n",
    "\n",
    "btn = Button(master,  \n",
    "             text =\"Run Module\",image = photoimage, \n",
    "                    compound = BOTTOM) \n",
    "  \n",
    "# Following line will bind click event \n",
    "# On any click left / right button \n",
    "# of mouse a new window will be opened \n",
    "btn.bind(\"<Button>\",  \n",
    "         lambda e: NewWindow(master)) \n",
    "  \n",
    "btn.pack(pady = 10) \n",
    "  \n",
    "# mainloop, runs infinitely \n",
    "mainloop() "
   ]
  },
  {
   "cell_type": "code",
   "execution_count": null,
   "metadata": {},
   "outputs": [],
   "source": []
  }
 ],
 "metadata": {
  "kernelspec": {
   "display_name": "Python 3",
   "language": "python",
   "name": "python3"
  },
  "language_info": {
   "codemirror_mode": {
    "name": "ipython",
    "version": 3
   },
   "file_extension": ".py",
   "mimetype": "text/x-python",
   "name": "python",
   "nbconvert_exporter": "python",
   "pygments_lexer": "ipython3",
   "version": "3.7.6"
  }
 },
 "nbformat": 4,
 "nbformat_minor": 4
}
